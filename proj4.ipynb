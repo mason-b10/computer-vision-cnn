{
  "cells": [
    {
      "cell_type": "markdown",
      "metadata": {
        "id": "fiK4QNWKDvWJ"
      },
      "source": [
        "# Scene Recognition with Deep Learning\n",
        "Scene classification for 15 scene types with a state-of-the-art approach: deep learning. The task is also known as image classification. "
      ]
    },
    {
      "cell_type": "code",
      "execution_count": null,
      "metadata": {
        "id": "wbtuSRZAhb9a"
      },
      "outputs": [],
      "source": [
        "# flag to modify everything to run better on Colab; change it to true if you want to run on colab\n",
        "use_colab = False"
      ]
    },
    {
      "cell_type": "markdown",
      "metadata": {
        "id": "Uto3xotovm5_"
      },
      "source": [
        "## Setup for Colab\n",
        "You can skip this part if you are not running your notebook on Colab."
      ]
    },
    {
      "cell_type": "markdown",
      "metadata": {
        "id": "a6O_juWwyI3X"
      },
      "source": [
        "### GPU Configuration\n",
        "\n",
        "We'll set up GPU computation on Colab.\n",
        "\n",
        "Click on Runtime $\\rightarrow$ Change Runtime Type, and select \"GPU\" under hardware accelerator."
      ]
    },
    {
      "cell_type": "code",
      "execution_count": null,
      "metadata": {
        "id": "tG_t11Chv9pq"
      },
      "outputs": [],
      "source": [
        "# uncomment for running on colab\n",
        "# uncomment for running on colab\n",
        "# !wget \"https://faculty.cc.gatech.edu/~hays/compvision2021fall/projects/proj4_data.zip\" --no-check-certificate -O data.zip && unzip -qq data.zip\n",
        "# !rm ./data.zip"
      ]
    },
    {
      "cell_type": "markdown",
      "metadata": {
        "id": "NQ9Qm5hnxKNn"
      },
      "source": [
        "### Upload code and unit tests"
      ]
    },
    {
      "cell_type": "code",
      "execution_count": null,
      "metadata": {
        "id": "ZpoinJA1yCQy"
      },
      "outputs": [],
      "source": [
        "# uncomment for running on colab\n",
        "# !unzip -qq cv_proj4.zip -d ./\n",
        "# !mv -v ./src/vision ./\n",
        "# !pip install -e ."
      ]
    },
    {
      "cell_type": "markdown",
      "metadata": {
        "id": "a6O_juWwyI3X"
      },
      "source": [
        "### Preparation\n",
        "\n",
        "Import the required functions:"
      ]
    },
    {
      "cell_type": "code",
      "execution_count": null,
      "metadata": {
        "id": "g1dqr6qSBpE2"
      },
      "outputs": [],
      "source": [
        "import os\n",
        "\n",
        "import torch\n",
        "\n",
        "from vision.runner import Trainer, MultiLabelTrainer\n",
        "from vision.optimizer import get_optimizer\n",
        "from vision.simple_net import SimpleNet\n",
        "from vision.simple_net_final import SimpleNetFinal\n",
        "from vision.my_resnet import MyResNet18\n",
        "from vision.multilabel_resnet import MultilabelResNet18\n",
        "from vision.data_transforms import (\n",
        "    get_fundamental_transforms,\n",
        "    get_fundamental_normalization_transforms,\n",
        "    get_fundamental_augmentation_transforms,\n",
        "    get_all_transforms,\n",
        ")\n",
        "from vision.stats_helper import compute_mean_and_std\n",
        "from vision.confusion_matrix import (\n",
        "    generate_confusion_data,\n",
        "    generate_confusion_matrix,\n",
        "    plot_confusion_matrix,\n",
        "    get_pred_images_for_target,\n",
        "    generate_and_plot_confusion_matrix,\n",
        "    generate_and_plot_accuracy_table,\n",
        ")\n",
        "from vision.dl_utils import save_trained_model_weights\n",
        "\n",
        "%load_ext autoreload\n",
        "%autoreload 2"
      ]
    },
    {
      "cell_type": "code",
      "execution_count": null,
      "metadata": {
        "id": "JKX1cUvTvgjL"
      },
      "outputs": [],
      "source": [
        "from tests.utils import verify\n",
        "from tests.test_stats_helper import test_mean_and_variance\n",
        "from tests.test_image_loader import (\n",
        "    test_dataset_length,\n",
        "    test_unique_vals,\n",
        "    test_class_values,\n",
        "    test_load_img_from_path,\n",
        ")\n",
        "from tests.test_data_transforms import (\n",
        "    test_fundamental_transforms,\n",
        "    test_data_augmentation_transforms,\n",
        "    test_data_augmentation_with_normalization_transforms,\n",
        ")\n",
        "from tests.test_dl_utils import test_compute_accuracy, test_compute_loss\n",
        "from tests.test_simple_net import test_simple_net\n",
        "from tests.test_simple_net_final import test_simple_net_final\n",
        "from tests.test_my_resnet import test_my_resnet\n",
        "from tests.test_multilabel_resnet import test_multilabel_resnet\n",
        "from tests.test_confusion_matrix import (\n",
        "    test_generate_confusion_matrix,\n",
        "    test_generate_confusion_matrix_normalized,\n",
        ")"
      ]
    },
    {
      "cell_type": "code",
      "execution_count": null,
      "metadata": {
        "id": "GjE0jIc5BpFN"
      },
      "outputs": [],
      "source": [
        "is_cuda = True\n",
        "is_cuda = (\n",
        "    is_cuda and torch.cuda.is_available()\n",
        ")  # will turn off cuda if the machine doesnt have a GPU"
      ]
    },
    {
      "cell_type": "code",
      "execution_count": null,
      "metadata": {
        "id": "zSUp5MMshb9m"
      },
      "outputs": [],
      "source": [
        "data_path = \"./data/\" if not use_colab else \"./data/\"\n",
        "model_path = \"../model_checkpoints/\" if not use_colab else \"./model_checkpoints/\""
      ]
    },
    {
      "cell_type": "markdown",
      "metadata": {
        "id": "aGSv2QfBBpFZ"
      },
      "source": [
        "## SimpleNet\n",
        "1. **Dataset** - an object which can load the data and labels given an index.\n",
        "2. **Model** - an object that contains the network architecture definition.\n",
        "3. **Loss function** - a function that measures how far the network output is from the ground truth label.\n",
        "4. **Optimizer** - an object that optimizes the network parameters to reduce the loss value.\n",
        "\n",
        "### Datasets\n",
        "We will map the scene names (text) into indices 0 to 14 in the image loader"
      ]
    },
    {
      "cell_type": "code",
      "execution_count": null,
      "metadata": {
        "id": "THRvAvluXFcS"
      },
      "outputs": [],
      "source": [
        "inp_size = (64, 64)\n",
        "print(\"Testing your image loader (length):\", verify(test_dataset_length))\n",
        "print(\"Testing your image loader (values):\", verify(test_unique_vals))\n",
        "print(\"Testing your image loader (classes):\", verify(test_class_values))\n",
        "print(\"Testing your image loader (paths):\", verify(test_load_img_from_path))"
      ]
    },
    {
      "cell_type": "markdown",
      "metadata": {
        "id": "K3TJtEB2vgjQ"
      },
      "source": [
        "### Data transforms"
      ]
    },
    {
      "cell_type": "code",
      "execution_count": null,
      "metadata": {
        "id": "xqpCmJoxvgjQ"
      },
      "outputs": [],
      "source": [
        "print(\"Testing your fundamental data transforms: \", verify(test_fundamental_transforms))"
      ]
    },
    {
      "cell_type": "markdown",
      "metadata": {
        "id": "KnvQDyMfvgjR"
      },
      "source": [
        "### Model"
      ]
    },
    {
      "cell_type": "code",
      "execution_count": null,
      "metadata": {
        "id": "jvVL-ap0BpFx"
      },
      "outputs": [],
      "source": [
        "print(\"Testing your SimpleNet architecture: \", verify(test_simple_net))"
      ]
    },
    {
      "cell_type": "code",
      "execution_count": null,
      "metadata": {
        "id": "1OTCOQNFvgjS"
      },
      "outputs": [],
      "source": [
        "simple_model = SimpleNet()"
      ]
    },
    {
      "cell_type": "markdown",
      "metadata": {
        "id": "MkbHMcEYvgjS"
      },
      "source": [
        "### Loss function"
      ]
    },
    {
      "cell_type": "code",
      "execution_count": null,
      "metadata": {
        "id": "JeBFNW0mvgjS"
      },
      "outputs": [],
      "source": [
        "print(simple_model)"
      ]
    },
    {
      "cell_type": "markdown",
      "metadata": {
        "id": "wwEAGDYrvgjU"
      },
      "source": [
        "### Optimizer"
      ]
    },
    {
      "cell_type": "code",
      "execution_count": null,
      "metadata": {
        "id": "V2cwtK5PBpF7"
      },
      "outputs": [],
      "source": [
        "optimizer_config = {\"optimizer_type\": \"adam\", \"lr\": 3.5e-4, \"weight_decay\": 1e-6}"
      ]
    },
    {
      "cell_type": "code",
      "execution_count": null,
      "metadata": {
        "id": "P0CrYZa4BpGE"
      },
      "outputs": [],
      "source": [
        "optimizer = get_optimizer(simple_model, optimizer_config)\n",
        "# print(type(optimizer))\n",
        "# print(optimizer.defaults)"
      ]
    },
    {
      "cell_type": "markdown",
      "metadata": {
        "id": "FffW3ZPhvgjU"
      },
      "source": [
        "### Trainer"
      ]
    },
    {
      "cell_type": "code",
      "execution_count": null,
      "metadata": {
        "id": "b7vcKhQohb9y"
      },
      "outputs": [],
      "source": [
        "print(\"Testing your trainer (loss values): \", verify(test_compute_loss))\n",
        "print(\"Testing your trainer (accuracy computation): \", verify(test_compute_accuracy))"
      ]
    },
    {
      "cell_type": "code",
      "execution_count": null,
      "metadata": {
        "id": "UiGOvPJfBpGO"
      },
      "outputs": [],
      "source": [
        "# re-init the model so that the weights are all random\n",
        "simple_model_base = SimpleNet()\n",
        "optimizer = get_optimizer(simple_model_base, optimizer_config)\n",
        "\n",
        "trainer = Trainer(\n",
        "    data_dir=data_path,\n",
        "    model=simple_model_base,\n",
        "    optimizer=optimizer,\n",
        "    model_dir=os.path.join(model_path, \"simple_net\"),\n",
        "    train_data_transforms=get_fundamental_transforms(inp_size),\n",
        "    val_data_transforms=get_fundamental_transforms(inp_size),\n",
        "    batch_size=32,\n",
        "    load_from_disk=False,\n",
        "    cuda=is_cuda,\n",
        ")"
      ]
    },
    {
      "cell_type": "code",
      "execution_count": null,
      "metadata": {
        "id": "paNLyU5cBpGX",
        "scrolled": false
      },
      "outputs": [],
      "source": [
        "%%time\n",
        "trainer.run_training_loop(num_epochs=30)"
      ]
    },
    {
      "cell_type": "code",
      "execution_count": null,
      "metadata": {
        "id": "z0b_WwJhBpGf",
        "scrolled": false
      },
      "outputs": [],
      "source": [
        "trainer.plot_loss_history()\n",
        "trainer.plot_accuracy()"
      ]
    },
    {
      "cell_type": "code",
      "execution_count": null,
      "metadata": {
        "id": "8epn0IBmBpGn",
        "scrolled": true
      },
      "outputs": [],
      "source": [
        "train_accuracy = trainer.train_accuracy_history[-1]\n",
        "validation_accuracy = trainer.validation_accuracy_history[-1]\n",
        "print(\n",
        "    \"Train Accuracy = {}; Validation Accuracy = {}\".format(\n",
        "        train_accuracy, validation_accuracy\n",
        "    )\n",
        ")"
      ]
    },
    {
      "cell_type": "code",
      "execution_count": null,
      "metadata": {
        "id": "AUjbBOiDhb94"
      },
      "outputs": [],
      "source": [
        "save_trained_model_weights(simple_model_base, out_dir=\"./\")"
      ]
    },
    {
      "cell_type": "markdown",
      "metadata": {
        "id": "f9fcNntXhb94"
      },
      "source": [
        "## SimpleNet with additional modifications"
      ]
    },
    {
      "cell_type": "markdown",
      "metadata": {
        "id": "lpI4Xda_hb-I"
      },
      "source": [
        "### Augment training data"
      ]
    },
    {
      "cell_type": "markdown",
      "metadata": {
        "id": "6SqKl7l1hb-J"
      },
      "source": [
        "Increase our amount of training data by left-right mirroring and color jittering the training images during the learning process."
      ]
    },
    {
      "cell_type": "code",
      "execution_count": null,
      "metadata": {
        "id": "JW9BDcJ0hb-J"
      },
      "outputs": [],
      "source": [
        "print(\n",
        "    \"Testing your data transforms with data augmentation: \",\n",
        "    verify(test_data_augmentation_transforms),\n",
        ")"
      ]
    },
    {
      "cell_type": "markdown",
      "metadata": {
        "id": "6eznl7cPhb-K"
      },
      "source": [
        "### Normalize Training Data"
      ]
    },
    {
      "cell_type": "markdown",
      "metadata": {
        "id": "IJ1Src4shb-K"
      },
      "source": [
        "We are going to \"zero-center\" and \"normalize\" the dataset so that each entry has zero mean and the overall standard deviation is 1. "
      ]
    },
    {
      "cell_type": "code",
      "execution_count": null,
      "metadata": {
        "id": "TjYWIY_Bhb-K"
      },
      "outputs": [],
      "source": [
        "print(\"Testing your mean and std computation: \", verify(test_mean_and_variance))\n",
        "dataset_mean, dataset_std = compute_mean_and_std(data_path)"
      ]
    },
    {
      "cell_type": "code",
      "execution_count": null,
      "metadata": {
        "id": "6FRdPZaWhb-L"
      },
      "outputs": [],
      "source": [
        "print(\"Dataset mean = {}, standard deviation = {}\".format(dataset_mean, dataset_std))"
      ]
    },
    {
      "cell_type": "code",
      "execution_count": null,
      "metadata": {
        "id": "VysOVwXfhb-L",
        "scrolled": true
      },
      "outputs": [],
      "source": [
        "print(\n",
        "    \"Testing your normalized data transforms: \",\n",
        "    verify(test_data_augmentation_with_normalization_transforms),\n",
        ")"
      ]
    },
    {
      "cell_type": "code",
      "execution_count": null,
      "metadata": {
        "id": "gVLqAzmlhb-M"
      },
      "outputs": [],
      "source": [
        "inp_size = (64, 64)"
      ]
    },
    {
      "cell_type": "markdown",
      "metadata": {
        "id": "WyUv4VRHhb-N"
      },
      "source": [
        "### Modify the network."
      ]
    },
    {
      "cell_type": "markdown",
      "metadata": {
        "id": "4_zfgLhrhb-N"
      },
      "source": [
        "1. Add the dropout layer\n",
        "2. Add one or two more blocks of “conv/pool/relu”.\n",
        "3. Add a batch normalization layer after each convolutional layer (except for the last)"
      ]
    },
    {
      "cell_type": "code",
      "execution_count": null,
      "metadata": {
        "id": "_cLHBt3Jhb-O"
      },
      "outputs": [],
      "source": [
        "print(\"Testing your SimpleNetFinal architecture: \", verify(test_simple_net_final))"
      ]
    },
    {
      "cell_type": "code",
      "execution_count": null,
      "metadata": {
        "id": "-sRvxPmjhb-P"
      },
      "outputs": [],
      "source": [
        "simple_model_final = SimpleNetFinal()\n",
        "print(simple_model_final)"
      ]
    },
    {
      "cell_type": "code",
      "execution_count": null,
      "metadata": {
        "id": "rhwvWHnJhb-Q"
      },
      "outputs": [],
      "source": [
        "optimizer_config = {\"optimizer_type\": \"adam\", \"lr\": 3.5e-4, \"weight_decay\": 1e-6}"
      ]
    },
    {
      "cell_type": "code",
      "execution_count": null,
      "metadata": {
        "id": "VBMTF3JZhb-R"
      },
      "outputs": [],
      "source": [
        "simple_model_final = SimpleNetFinal()\n",
        "optimizer = get_optimizer(simple_model_final, optimizer_config)\n",
        "\n",
        "trainer = Trainer(\n",
        "    data_dir=data_path,\n",
        "    model=simple_model_final,\n",
        "    optimizer=optimizer,\n",
        "    model_dir=os.path.join(model_path, \"simple_model_final\"),\n",
        "    train_data_transforms=get_all_transforms(inp_size, [dataset_mean], [dataset_std]),\n",
        "    val_data_transforms=get_fundamental_normalization_transforms(\n",
        "        inp_size, [dataset_mean], [dataset_std]\n",
        "    ),\n",
        "    batch_size=32,\n",
        "    load_from_disk=False,\n",
        "    cuda=is_cuda,\n",
        ")"
      ]
    },
    {
      "cell_type": "code",
      "execution_count": null,
      "metadata": {
        "id": "fpF7R50whb-R"
      },
      "outputs": [],
      "source": [
        "%%time\n",
        "trainer.run_training_loop(num_epochs=30)"
      ]
    },
    {
      "cell_type": "code",
      "execution_count": null,
      "metadata": {
        "id": "Chc9YDS9hb-S"
      },
      "outputs": [],
      "source": [
        "trainer.plot_loss_history()\n",
        "trainer.plot_accuracy()"
      ]
    },
    {
      "cell_type": "code",
      "execution_count": null,
      "metadata": {
        "id": "m9wHX7tohb-T"
      },
      "outputs": [],
      "source": [
        "train_accuracy = trainer.train_accuracy_history[-1]\n",
        "validation_accuracy = trainer.validation_accuracy_history[-1]\n",
        "print(\n",
        "    \"Train Accuracy = {}; Validation Accuracy = {}\".format(\n",
        "        train_accuracy, validation_accuracy\n",
        "    )\n",
        ")"
      ]
    },
    {
      "cell_type": "markdown",
      "metadata": {
        "id": "mLUgrlT5hb-T"
      },
      "source": [
        "### Save the model for your SimpleNetFinal"
      ]
    },
    {
      "cell_type": "code",
      "execution_count": null,
      "metadata": {
        "id": "kdMA-QIEhb-U"
      },
      "outputs": [],
      "source": [
        "save_trained_model_weights(simple_model_final, out_dir=\"./\")"
      ]
    },
    {
      "cell_type": "markdown",
      "metadata": {
        "id": "ywG8NSYxhb-U"
      },
      "source": [
        "### Analysis using confusion matrix"
      ]
    },
    {
      "cell_type": "code",
      "execution_count": null,
      "metadata": {
        "id": "47oQB8Y5hb-V"
      },
      "outputs": [],
      "source": [
        "print(verify(test_generate_confusion_matrix))\n",
        "print(verify(test_generate_confusion_matrix_normalized))"
      ]
    },
    {
      "cell_type": "code",
      "execution_count": null,
      "metadata": {
        "id": "alg_NXDphb-V"
      },
      "outputs": [],
      "source": [
        "%%time\n",
        "targets, predictions, class_labels = generate_confusion_data(\n",
        "    trainer.model, trainer.val_dataset, use_cuda=is_cuda\n",
        ")"
      ]
    },
    {
      "cell_type": "code",
      "execution_count": null,
      "metadata": {
        "id": "eiAcQIdWhb-V"
      },
      "outputs": [],
      "source": [
        "confusion_matrix = generate_confusion_matrix(targets, predictions, len(class_labels))"
      ]
    },
    {
      "cell_type": "code",
      "execution_count": null,
      "metadata": {
        "id": "MUzxZ1-Qhb-W"
      },
      "outputs": [],
      "source": [
        "plot_confusion_matrix(confusion_matrix, class_labels)"
      ]
    },
    {
      "cell_type": "markdown",
      "metadata": {
        "id": "amh1wxlJBpHj"
      },
      "source": [
        "## Part 3: ResNet"
      ]
    },
    {
      "cell_type": "code",
      "execution_count": null,
      "metadata": {
        "id": "ttbhBZ7CXUng"
      },
      "outputs": [],
      "source": [
        "inp_size = (224, 224)"
      ]
    },
    {
      "cell_type": "markdown",
      "metadata": {
        "id": "HGzfNfMivgjb"
      },
      "source": [
        "### Fine-tuning the ResNet"
      ]
    },
    {
      "cell_type": "code",
      "execution_count": null,
      "metadata": {
        "id": "Ruw-dg8avgjb"
      },
      "outputs": [],
      "source": [
        "print(\"Testing your ResNet architecture: \", verify(test_my_resnet))"
      ]
    },
    {
      "cell_type": "code",
      "execution_count": null,
      "metadata": {
        "id": "CBoLgRrlBpHl"
      },
      "outputs": [],
      "source": [
        "my_resnet = MyResNet18()\n",
        "print(my_resnet)"
      ]
    },
    {
      "cell_type": "code",
      "execution_count": null,
      "metadata": {
        "id": "J6AYkHAgBpHw"
      },
      "outputs": [],
      "source": [
        "optimizer_config = {\"optimizer_type\": \"adam\", \"lr\": 5.2e-4, \"weight_decay\": 5e-7}"
      ]
    },
    {
      "cell_type": "code",
      "execution_count": null,
      "metadata": {
        "id": "DtCIaTMmBpIK"
      },
      "outputs": [],
      "source": [
        "my_resnet = MyResNet18()\n",
        "optimizer = get_optimizer(my_resnet, optimizer_config)\n",
        "\n",
        "trainer = Trainer(\n",
        "    data_dir=data_path,\n",
        "    model=my_resnet,\n",
        "    optimizer=optimizer,\n",
        "    model_dir=os.path.join(model_path, \"resnet18\"),\n",
        "    train_data_transforms=get_all_transforms(inp_size, [dataset_mean], [dataset_std]),\n",
        "    val_data_transforms=get_fundamental_normalization_transforms(\n",
        "        inp_size, [dataset_mean], [dataset_std]\n",
        "    ),\n",
        "    batch_size=32,\n",
        "    load_from_disk=False,\n",
        "    cuda=is_cuda,\n",
        ")"
      ]
    },
    {
      "cell_type": "code",
      "execution_count": null,
      "metadata": {
        "id": "CAcncwLPBpIQ"
      },
      "outputs": [],
      "source": [
        "%%time\n",
        "trainer.run_training_loop(num_epochs=5)"
      ]
    },
    {
      "cell_type": "code",
      "execution_count": null,
      "metadata": {
        "id": "Cimj95G_BpIU",
        "scrolled": false
      },
      "outputs": [],
      "source": [
        "trainer.plot_loss_history()\n",
        "trainer.plot_accuracy()"
      ]
    },
    {
      "cell_type": "code",
      "execution_count": null,
      "metadata": {
        "id": "qMI3CdEuBpIb"
      },
      "outputs": [],
      "source": [
        "train_accuracy = trainer.train_accuracy_history[-1]\n",
        "validation_accuracy = trainer.validation_accuracy_history[-1]\n",
        "print(\n",
        "    \"Train Accuracy = {}; Validation Accuracy = {}\".format(\n",
        "        train_accuracy, validation_accuracy\n",
        "    )\n",
        ")"
      ]
    },
    {
      "cell_type": "markdown",
      "metadata": {
        "id": "lwmEfkaohb-b"
      },
      "source": [
        "### Save Trained MyResnet18 model"
      ]
    },
    {
      "cell_type": "code",
      "execution_count": null,
      "metadata": {
        "id": "JttK_45Yhb-b"
      },
      "outputs": [],
      "source": [
        "save_trained_model_weights(my_resnet, out_dir=\"./\")"
      ]
    },
    {
      "cell_type": "markdown",
      "metadata": {
        "id": "eXwDzD5ghb-c"
      },
      "source": [
        "### Visualize and Analyze Confusion Matrix"
      ]
    },
    {
      "cell_type": "code",
      "execution_count": null,
      "metadata": {
        "id": "WpoROFbqhb-c"
      },
      "outputs": [],
      "source": [
        "generate_and_plot_confusion_matrix(my_resnet, trainer.val_dataset, use_cuda=is_cuda)"
      ]
    },
    {
      "cell_type": "code",
      "execution_count": null,
      "metadata": {
        "id": "Vimh9O8fhb-d"
      },
      "outputs": [],
      "source": [
        "#########################\n",
        "# Use this cell to visualize your images depending on the confusion matrix visualization\n",
        "#########################\n",
        "import numpy as np\n",
        "import random\n",
        "targets, preds, classes = generate_confusion_data(my_resnet, trainer.val_dataset, use_cuda=is_cuda)\n",
        "conf = generate_confusion_matrix(targets, preds, len(classes))\n",
        "ind = np.argpartition(conf, 13, axis=1)[:,13:14].flatten()\n",
        "for i in range(ind.shape[0]):\n",
        "  if i == 0:\n",
        "    arr = np.array(conf[i, ind[i]])\n",
        "  else:\n",
        "    arr = np.append(arr, conf[i, ind[i]])\n",
        "top3 = np.argsort(arr)[-3:]\n",
        "incImages = []\n",
        "for index in top3:\n",
        "  pred = ind[index]\n",
        "  gt = index\n",
        "  incImages.append(get_pred_images_for_target(my_resnet, trainer.val_dataset, pred, gt, is_cuda))\n",
        "for paths in incImages:\n",
        "  randImage = paths[random.randrange(len(paths))]\n",
        "  print(randImage)\n"
      ]
    },
    {
      "cell_type": "markdown",
      "metadata": {},
      "source": [
        "# Multilabel Classification - Scene Attribute Prediction\n",
        "\n",
        "A subset of the above dataset containing images only from the 'coast', 'highway', 'mountain', 'opencountry', 'street' classes will be used. Target labels are represented as binary arrays corresponding to the following attributes:\n",
        "<ul>\n",
        "    <li> Clouds </li>\n",
        "    <li> Water body </li>\n",
        "    <li> People </li>\n",
        "    <li> Animals </li>\n",
        "    <li> Natural </li>\n",
        "    <li> Man-made </li>\n",
        "    <li> Vehicles </li>\n",
        "</ul>\n",
        "\n",
        "For example, if an input image of a natural scene has clouds, people and vehicles only, we expect an output of [1, 0, 1, 0, 1, 0, 1]."
      ]
    },
    {
      "cell_type": "markdown",
      "metadata": {},
      "source": [
        "## Model Architecture & Training"
      ]
    },
    {
      "cell_type": "code",
      "execution_count": null,
      "metadata": {},
      "outputs": [],
      "source": [
        "print(\"Testing your MultilabelResNet architecture: \", verify(test_multilabel_resnet))"
      ]
    },
    {
      "cell_type": "code",
      "execution_count": null,
      "metadata": {},
      "outputs": [],
      "source": [
        "multi_resnet = MultilabelResNet18()\n",
        "print(multi_resnet)"
      ]
    },
    {
      "cell_type": "code",
      "execution_count": null,
      "metadata": {},
      "outputs": [],
      "source": [
        "inp_size = (224, 224)"
      ]
    },
    {
      "cell_type": "code",
      "execution_count": null,
      "metadata": {},
      "outputs": [],
      "source": [
        "optimizer_config = {\"optimizer_type\": \"adam\", \"lr\": 3.8e-4, \"weight_decay\": 1e-6}"
      ]
    },
    {
      "cell_type": "code",
      "execution_count": null,
      "metadata": {},
      "outputs": [],
      "source": [
        "multi_resnet = MultilabelResNet18()\n",
        "optimizer = get_optimizer(multi_resnet, optimizer_config)\n",
        "\n",
        "trainer = MultiLabelTrainer(\n",
        "    data_dir=data_path,\n",
        "    model=multi_resnet,\n",
        "    optimizer=optimizer,\n",
        "    model_dir=os.path.join(model_path, \"multilabel_resnet18\"),\n",
        "    train_data_transforms=get_all_transforms(inp_size, [dataset_mean], [dataset_std]),\n",
        "    val_data_transforms=get_fundamental_normalization_transforms(\n",
        "        inp_size, [dataset_mean], [dataset_std]\n",
        "    ),\n",
        "    batch_size=32,\n",
        "    load_from_disk=False,\n",
        "    cuda=is_cuda,\n",
        ")"
      ]
    },
    {
      "cell_type": "code",
      "execution_count": null,
      "metadata": {},
      "outputs": [],
      "source": [
        "%%time\n",
        "trainer.run_training_loop(num_epochs=5)"
      ]
    },
    {
      "cell_type": "code",
      "execution_count": null,
      "metadata": {},
      "outputs": [],
      "source": [
        "trainer.plot_loss_history()\n",
        "trainer.plot_accuracy()"
      ]
    },
    {
      "cell_type": "code",
      "execution_count": null,
      "metadata": {},
      "outputs": [],
      "source": [
        "train_accuracy = trainer.train_accuracy_history[-1]\n",
        "validation_accuracy = trainer.validation_accuracy_history[-1]\n",
        "print(\n",
        "    \"Train Accuracy = {}; Validation Accuracy = {}\".format(\n",
        "        train_accuracy, validation_accuracy\n",
        "    )\n",
        ")"
      ]
    },
    {
      "cell_type": "markdown",
      "metadata": {
        "id": "lwmEfkaohb-b"
      },
      "source": [
        "### Save Trained MultilabelResnet18 model"
      ]
    },
    {
      "cell_type": "code",
      "execution_count": null,
      "metadata": {
        "id": "JttK_45Yhb-b"
      },
      "outputs": [],
      "source": [
        "save_trained_model_weights(multi_resnet, out_dir=\"./\")"
      ]
    },
    {
      "cell_type": "markdown",
      "metadata": {},
      "source": [
        "## Visualize Results"
      ]
    },
    {
      "cell_type": "code",
      "execution_count": null,
      "metadata": {},
      "outputs": [],
      "source": [
        "att_list = ['clouds', 'water', 'people', 'animals', 'natural', 'man-made', 'vehicles']\n",
        "\n",
        "generate_and_plot_accuracy_table(\n",
        "    multi_resnet, \n",
        "    trainer.val_dataset, \n",
        "    num_attributes=7,\n",
        "    attribute_labels=att_list,\n",
        "    use_cuda=is_cuda\n",
        ")"
      ]
    }
  ],
  "metadata": {
    "accelerator": "GPU",
    "colab": {
      "collapsed_sections": [],
      "name": "proj4.ipynb",
      "provenance": []
    },
    "kernelspec": {
      "display_name": "Python 3 (ipykernel)",
      "language": "python",
      "name": "python3"
    },
    "language_info": {
      "codemirror_mode": {
        "name": "ipython",
        "version": 3
      },
      "file_extension": ".py",
      "mimetype": "text/x-python",
      "name": "python",
      "nbconvert_exporter": "python",
      "pygments_lexer": "ipython3",
      "version": "3.8.13"
    }
  },
  "nbformat": 4,
  "nbformat_minor": 0
}
